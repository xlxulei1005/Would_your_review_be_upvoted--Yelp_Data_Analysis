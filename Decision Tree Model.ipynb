{
 "cells": [
  {
   "cell_type": "markdown",
   "metadata": {},
   "source": [
    "## Import Data Into Data Frame"
   ]
  },
  {
   "cell_type": "code",
   "execution_count": 1,
   "metadata": {
    "collapsed": false
   },
   "outputs": [],
   "source": [
    "import pandas as pd\n",
    "train_df=pd.read_csv('final_dummies_training.csv',index_col=0)\n",
    "validate_df=pd.read_csv('final_dummies_evaluation.csv', index_col=0)\n"
   ]
  },
  {
   "cell_type": "code",
   "execution_count": 2,
   "metadata": {
    "collapsed": false
   },
   "outputs": [],
   "source": [
    "train_text=train_df['text']\n",
    "validate_text=validate_df['text']"
   ]
  },
  {
   "cell_type": "code",
   "execution_count": 3,
   "metadata": {
    "collapsed": false
   },
   "outputs": [],
   "source": [
    "train_otherfeature=train_df.drop(['text', 'review_id', 'normalized_votes','Label'],axis=1)\n",
    "validate_otherfeature=validate_df.drop(['text', 'review_id', 'normalized_votes','Label'],axis=1)"
   ]
  },
  {
   "cell_type": "markdown",
   "metadata": {},
   "source": [
    "# Binary Representation:\n",
    "\n",
    "To create a matrix that uses each word as a feature and keeps track of whether or not a word appears in a review text"
   ]
  },
  {
   "cell_type": "code",
   "execution_count": 4,
   "metadata": {
    "collapsed": false
   },
   "outputs": [
    {
     "data": {
      "text/plain": [
       "CountVectorizer(analyzer='word', binary=True, decode_error='strict',\n",
       "        dtype=<class 'numpy.int64'>, encoding='utf-8', input='content',\n",
       "        lowercase=True, max_df=1.0, max_features=None, min_df=1,\n",
       "        ngram_range=(1, 1), preprocessor=None, stop_words=None,\n",
       "        strip_accents=None, token_pattern='(?u)\\\\b\\\\w\\\\w+\\\\b',\n",
       "        tokenizer=None, vocabulary=None)"
      ]
     },
     "execution_count": 4,
     "metadata": {},
     "output_type": "execute_result"
    }
   ],
   "source": [
    "from sklearn.feature_extraction.text import CountVectorizer\n",
    "binary_vectorizer=CountVectorizer(binary=True)\n",
    "binary_vectorizer.fit(train_text)"
   ]
  },
  {
   "cell_type": "code",
   "execution_count": 5,
   "metadata": {
    "collapsed": false
   },
   "outputs": [],
   "source": [
    "train_binary = binary_vectorizer.transform(train_text)\n",
    "validate_binary = binary_vectorizer.transform(validate_text)"
   ]
  },
  {
   "cell_type": "markdown",
   "metadata": {},
   "source": [
    "### Merge with other features\n",
    "#### Training Set"
   ]
  },
  {
   "cell_type": "code",
   "execution_count": 6,
   "metadata": {
    "collapsed": false
   },
   "outputs": [],
   "source": [
    "import scipy as sp\n",
    "train_otherfeature=sp.sparse.csr_matrix(train_otherfeature)\n",
    "train_binary=sp.sparse.hstack([train_binary,train_otherfeature])"
   ]
  },
  {
   "cell_type": "markdown",
   "metadata": {},
   "source": [
    "#### Validation Set"
   ]
  },
  {
   "cell_type": "code",
   "execution_count": 7,
   "metadata": {
    "collapsed": true
   },
   "outputs": [],
   "source": [
    "validate_otherfeature=sp.sparse.csr_matrix(validate_otherfeature)\n",
    "validate_binary=sp.sparse.hstack([validate_binary,validate_otherfeature])"
   ]
  },
  {
   "cell_type": "markdown",
   "metadata": {},
   "source": [
    "### Basic Decision Tree with min_samples_leaf=1, max_depth=3"
   ]
  },
  {
   "cell_type": "code",
   "execution_count": 8,
   "metadata": {
    "collapsed": false
   },
   "outputs": [],
   "source": [
    "from sklearn.tree import DecisionTreeClassifier\n",
    "clf = DecisionTreeClassifier(criterion='entropy', min_samples_leaf = 1, max_depth = 3)\n",
    "clf = clf.fit(train_binary,train_df['Label'])"
   ]
  },
  {
   "cell_type": "code",
   "execution_count": 9,
   "metadata": {
    "collapsed": false
   },
   "outputs": [
    {
     "name": "stdout",
     "output_type": "stream",
     "text": [
      "Area under the ROC curve on the test data = 0.659\n"
     ]
    }
   ],
   "source": [
    "from sklearn.metrics import roc_auc_score\n",
    "print(\"Area under the ROC curve on the test data = %.3f\" % roc_auc_score(clf.predict(validate_binary),validate_df['Label']))"
   ]
  },
  {
   "cell_type": "code",
   "execution_count": 10,
   "metadata": {
    "collapsed": false
   },
   "outputs": [],
   "source": [
    "clf = DecisionTreeClassifier(criterion='gini', min_samples_leaf=1, max_depth=3)\n",
    "clf = clf.fit(train_binary,train_df['Label'])"
   ]
  },
  {
   "cell_type": "code",
   "execution_count": 11,
   "metadata": {
    "collapsed": false,
    "scrolled": true
   },
   "outputs": [
    {
     "name": "stdout",
     "output_type": "stream",
     "text": [
      "Area under the ROC curve on the test data = 0.658\n"
     ]
    }
   ],
   "source": [
    "from sklearn.metrics import roc_auc_score\n",
    "print(\"Area under the ROC curve on the test data = %.3f\" % roc_auc_score(clf.predict(validate_binary),validate_df['Label']))"
   ]
  },
  {
   "cell_type": "markdown",
   "metadata": {},
   "source": [
    "### Find the best parameters for decision tree classifier "
   ]
  },
  {
   "cell_type": "code",
   "execution_count": 12,
   "metadata": {
    "collapsed": true
   },
   "outputs": [],
   "source": [
    "#depth of 15 was tested- it requires a really long time to run; Hence, the depth is limited to upto 10\n",
    "max_depth =[7,8,9,10]\n",
    "min_samples_leaf_values = [100,500,1000,2000]"
   ]
  },
  {
   "cell_type": "code",
   "execution_count": 13,
   "metadata": {
    "collapsed": false
   },
   "outputs": [],
   "source": [
    "#Run all of the options\n",
    "run=1\n",
    "if (run == 1):\n",
    "    #Initialize dictionary of results\n",
    "    res = dict()\n",
    "    for d in max_depth:\n",
    "        res[d] = list()\n",
    "\n",
    "    #Now train and get results for each option\n",
    "    for d in max_depth:\n",
    "        for l in min_samples_leaf_values:\n",
    "            model=DecisionTreeClassifier(criterion='entropy',min_samples_leaf=l,max_depth=d)\n",
    "            model=model.fit(train_binary,train_df['Label'])\n",
    "            res[d].append(roc_auc_score(model.predict(validate_binary),validate_df['Label']))\n",
    "\n"
   ]
  },
  {
   "cell_type": "markdown",
   "metadata": {},
   "source": [
    "##### Plot Holdout AUC by Hyperparameters"
   ]
  },
  {
   "cell_type": "code",
   "execution_count": 14,
   "metadata": {
    "collapsed": false
   },
   "outputs": [
    {
     "data": {
      "text/plain": [
       "<matplotlib.text.Text at 0x2871838aef0>"
      ]
     },
     "execution_count": 14,
     "metadata": {},
     "output_type": "execute_result"
    },
    {
     "data": {
      "image/png": "[encoded data removed]",
      "text/plain": [
       "<matplotlib.figure.Figure at 0x287183b41d0>"
      ]
     },
     "metadata": {},
     "output_type": "display_data"
    }
   ],
   "source": [
    "import matplotlib.pyplot as plt\n",
    "%matplotlib inline\n",
    "#plot            \n",
    "fig = plt.figure()\n",
    "ax=fig.add_subplot(111)\n",
    "plt.plot(min_samples_leaf_values,res[max_depth[0]], 'b-', label = 'Depth={}'.format(max_depth[0]))\n",
    "plt.plot(min_samples_leaf_values,res[max_depth[1]], 'r-', label = 'Depth={}'.format(max_depth[1]))\n",
    "plt.plot(min_samples_leaf_values,res[max_depth[2]], 'y-', label = 'Depth={}'.format(max_depth[2]))\n",
    "plt.plot(min_samples_leaf_values,res[max_depth[3]], 'g-', label = 'Depth={}'.format(max_depth[3]))\n",
    "\n",
    "plt.legend(loc = 4)\n",
    "ax.set_xlabel('Min Leaf Size')\n",
    "ax.set_ylabel('Test Set AUC')\n",
    "plt.title('Holdout AUC by Hyperparameters')\n"
   ]
  },
  {
   "cell_type": "code",
   "execution_count": 15,
   "metadata": {
    "collapsed": false
   },
   "outputs": [
    {
     "name": "stdout",
     "output_type": "stream",
     "text": [
      "Best AUC is= 0.675\n",
      "Configuration is min_samples_leaf at 500 depth at 8\n"
     ]
    }
   ],
   "source": [
    "max_depth_value=max_depth[0]\n",
    "min_sampls_leaf=min_samples_leaf_values[0]\n",
    "maxAUC=res[max_depth_value][min_samples_leaf_values.index(min_sampls_leaf)]\n",
    "for d in max_depth:\n",
    "    for l in range(0,4):\n",
    "        if res[d][l]>maxAUC:\n",
    "            maxAUC=res[d][l]\n",
    "            min_sampls_leaf=min_samples_leaf_values[l]\n",
    "            max_depth_value=d\n",
    "print(\"Best AUC is= %.3f\" % maxAUC)\n",
    "print(\"Configuration is min_samples_leaf at\",min_sampls_leaf,\"depth at\",max_depth_value)\n"
   ]
  },
  {
   "cell_type": "markdown",
   "metadata": {},
   "source": [
    "# Count Representation:"
   ]
  },
  {
   "cell_type": "code",
   "execution_count": 16,
   "metadata": {
    "collapsed": false
   },
   "outputs": [
    {
     "data": {
      "text/plain": [
       "CountVectorizer(analyzer='word', binary=False, decode_error='strict',\n",
       "        dtype=<class 'numpy.int64'>, encoding='utf-8', input='content',\n",
       "        lowercase=True, max_df=1.0, max_features=None, min_df=1,\n",
       "        ngram_range=(1, 1), preprocessor=None, stop_words=None,\n",
       "        strip_accents=None, token_pattern='(?u)\\\\b\\\\w\\\\w+\\\\b',\n",
       "        tokenizer=None, vocabulary=None)"
      ]
     },
     "execution_count": 16,
     "metadata": {},
     "output_type": "execute_result"
    }
   ],
   "source": [
    "count_vectorizer=CountVectorizer()\n",
    "count_vectorizer.fit(train_text)"
   ]
  },
  {
   "cell_type": "code",
   "execution_count": 17,
   "metadata": {
    "collapsed": true
   },
   "outputs": [],
   "source": [
    "train_count = count_vectorizer.transform(train_text)\n",
    "validate_count = count_vectorizer.transform(validate_text)"
   ]
  },
  {
   "cell_type": "markdown",
   "metadata": {},
   "source": [
    "### Merge with other features"
   ]
  },
  {
   "cell_type": "code",
   "execution_count": 18,
   "metadata": {
    "collapsed": true
   },
   "outputs": [],
   "source": [
    "train_count=sp.sparse.hstack([train_count,train_otherfeature])\n",
    "validate_count=sp.sparse.hstack([validate_count,validate_otherfeature])"
   ]
  },
  {
   "cell_type": "markdown",
   "metadata": {},
   "source": [
    "### Basic Decision Tree with min_samples_leaf=1, max_depth=3"
   ]
  },
  {
   "cell_type": "code",
   "execution_count": 19,
   "metadata": {
    "collapsed": true
   },
   "outputs": [],
   "source": [
    "clf = DecisionTreeClassifier(criterion='entropy', min_samples_leaf = 1, max_depth = 3)\n",
    "clf = clf.fit(train_count,train_df['Label'])"
   ]
  },
  {
   "cell_type": "code",
   "execution_count": 20,
   "metadata": {
    "collapsed": false
   },
   "outputs": [
    {
     "name": "stdout",
     "output_type": "stream",
     "text": [
      "Area under the ROC curve on the test data = 0.658\n"
     ]
    }
   ],
   "source": [
    "print(\"Area under the ROC curve on the test data = %.3f\" % roc_auc_score(clf.predict(validate_count),validate_df['Label']))"
   ]
  },
  {
   "cell_type": "code",
   "execution_count": 21,
   "metadata": {
    "collapsed": true
   },
   "outputs": [],
   "source": [
    "clf = DecisionTreeClassifier(criterion='gini', min_samples_leaf = 1, max_depth = 3)\n",
    "clf = clf.fit(train_count,train_df['Label'])"
   ]
  },
  {
   "cell_type": "code",
   "execution_count": 22,
   "metadata": {
    "collapsed": false
   },
   "outputs": [
    {
     "name": "stdout",
     "output_type": "stream",
     "text": [
      "Area under the ROC curve on the test data = 0.658\n"
     ]
    }
   ],
   "source": [
    "print(\"Area under the ROC curve on the test data = %.3f\" % roc_auc_score(clf.predict(validate_count),validate_df['Label']))"
   ]
  },
  {
   "cell_type": "markdown",
   "metadata": {},
   "source": [
    "### Find the best parameters for decision tree classifier "
   ]
  },
  {
   "cell_type": "code",
   "execution_count": 23,
   "metadata": {
    "collapsed": true
   },
   "outputs": [],
   "source": [
    "#Run all of the options\n",
    "run=1\n",
    "if (run == 1):\n",
    "    #Initialize dictionary of results\n",
    "    res = dict()\n",
    "    for d in max_depth:\n",
    "        res[d] = list()\n",
    "\n",
    "    #Now train and get results for each option\n",
    "    for d in max_depth:\n",
    "        for l in min_samples_leaf_values:\n",
    "            model=DecisionTreeClassifier(criterion='entropy',min_samples_leaf=l,max_depth=d)\n",
    "            model=model.fit(train_count,train_df['Label'])\n",
    "            res[d].append(roc_auc_score(model.predict(validate_count),validate_df['Label']))\n"
   ]
  },
  {
   "cell_type": "code",
   "execution_count": 24,
   "metadata": {
    "collapsed": false
   },
   "outputs": [
    {
     "data": {
      "text/plain": [
       "<matplotlib.text.Text at 0x287190fdc88>"
      ]
     },
     "execution_count": 24,
     "metadata": {},
     "output_type": "execute_result"
    },
    {
     "data": {
      "image/png": "[encoded data removed]",
      "text/plain": [
       "<matplotlib.figure.Figure at 0x2870cc982b0>"
      ]
     },
     "metadata": {},
     "output_type": "display_data"
    }
   ],
   "source": [
    "#plot            \n",
    "fig = plt.figure()\n",
    "ax=fig.add_subplot(111)\n",
    "plt.plot(min_samples_leaf_values,res[max_depth[0]], 'b-', label = 'Depth={}'.format(max_depth[0]))\n",
    "plt.plot(min_samples_leaf_values,res[max_depth[1]], 'r-', label = 'Depth={}'.format(max_depth[1]))\n",
    "plt.plot(min_samples_leaf_values,res[max_depth[2]], 'y-', label = 'Depth={}'.format(max_depth[2]))\n",
    "plt.plot(min_samples_leaf_values,res[max_depth[3]], 'g-', label = 'Depth={}'.format(max_depth[3]))\n",
    "plt.legend(loc = 4)\n",
    "ax.set_xlabel('Min Leaf Size')\n",
    "ax.set_ylabel('Test Set AUC')\n",
    "plt.title('Holdout AUC by Hyperparameters')\n"
   ]
  },
  {
   "cell_type": "code",
   "execution_count": 26,
   "metadata": {
    "collapsed": false
   },
   "outputs": [
    {
     "name": "stdout",
     "output_type": "stream",
     "text": [
      "Best AUC is= 0.676\n",
      "Configuration is min_samples_leaf at 100 depth at 10\n"
     ]
    }
   ],
   "source": [
    "max_depth_value=max_depth[0]\n",
    "min_sampls_leaf=min_samples_leaf_values[0]\n",
    "maxAUC=res[max_depth_value][min_samples_leaf_values.index(min_sampls_leaf)]\n",
    "for d in max_depth:\n",
    "    for l in range(0,4):\n",
    "        if res[d][l]>maxAUC:\n",
    "            maxAUC=res[d][l]\n",
    "            min_sampls_leaf=min_samples_leaf_values[l]\n",
    "            max_depth_value=d\n",
    "print(\"Best AUC is= %.3f\" % maxAUC)\n",
    "print(\"Configuration is min_samples_leaf at\",min_sampls_leaf,\"depth at\",max_depth_value)"
   ]
  },
  {
   "cell_type": "markdown",
   "metadata": {},
   "source": [
    "# TF-idf Representation:"
   ]
  },
  {
   "cell_type": "code",
   "execution_count": 27,
   "metadata": {
    "collapsed": true
   },
   "outputs": [],
   "source": [
    "from sklearn.feature_extraction.text import TfidfVectorizer"
   ]
  },
  {
   "cell_type": "code",
   "execution_count": 28,
   "metadata": {
    "collapsed": false
   },
   "outputs": [
    {
     "data": {
      "text/plain": [
       "TfidfVectorizer(analyzer='word', binary=False, decode_error='strict',\n",
       "        dtype=<class 'numpy.int64'>, encoding='utf-8', input='content',\n",
       "        lowercase=True, max_df=1.0, max_features=None, min_df=1,\n",
       "        ngram_range=(1, 1), norm='l2', preprocessor=None, smooth_idf=True,\n",
       "        stop_words=None, strip_accents=None, sublinear_tf=False,\n",
       "        token_pattern='(?u)\\\\b\\\\w\\\\w+\\\\b', tokenizer=None, use_idf=True,\n",
       "        vocabulary=None)"
      ]
     },
     "execution_count": 28,
     "metadata": {},
     "output_type": "execute_result"
    }
   ],
   "source": [
    "tfidf_vectorizer=TfidfVectorizer()\n",
    "tfidf_vectorizer.fit(train_text)"
   ]
  },
  {
   "cell_type": "code",
   "execution_count": 29,
   "metadata": {
    "collapsed": true
   },
   "outputs": [],
   "source": [
    "train_tfidf = tfidf_vectorizer.transform(train_text)\n",
    "validate_tfidf = tfidf_vectorizer.transform(validate_text)"
   ]
  },
  {
   "cell_type": "markdown",
   "metadata": {},
   "source": [
    "### Merge with other features\n"
   ]
  },
  {
   "cell_type": "code",
   "execution_count": 30,
   "metadata": {
    "collapsed": true
   },
   "outputs": [],
   "source": [
    "train_tfidf=sp.sparse.hstack([train_tfidf,train_otherfeature])\n",
    "validate_tfidf=sp.sparse.hstack([validate_tfidf,validate_otherfeature])"
   ]
  },
  {
   "cell_type": "markdown",
   "metadata": {},
   "source": [
    "### Basic Decision Tree with min_samples_leaf=1, max_depth=3"
   ]
  },
  {
   "cell_type": "code",
   "execution_count": 31,
   "metadata": {
    "collapsed": true
   },
   "outputs": [],
   "source": [
    "clf = DecisionTreeClassifier(criterion='entropy', min_samples_leaf = 1, max_depth = 3)\n",
    "clf = clf.fit(train_tfidf,train_df['Label'])"
   ]
  },
  {
   "cell_type": "code",
   "execution_count": 32,
   "metadata": {
    "collapsed": false
   },
   "outputs": [
    {
     "name": "stdout",
     "output_type": "stream",
     "text": [
      "Area under the ROC curve on the test data = 0.659\n"
     ]
    }
   ],
   "source": [
    "print(\"Area under the ROC curve on the test data = %.3f\" % roc_auc_score(clf.predict(validate_tfidf),validate_df['Label']))"
   ]
  },
  {
   "cell_type": "code",
   "execution_count": 33,
   "metadata": {
    "collapsed": true
   },
   "outputs": [],
   "source": [
    "clf = DecisionTreeClassifier(criterion='gini', min_samples_leaf = 1, max_depth = 3)\n",
    "clf = clf.fit(train_tfidf,train_df['Label'])"
   ]
  },
  {
   "cell_type": "code",
   "execution_count": 34,
   "metadata": {
    "collapsed": false
   },
   "outputs": [
    {
     "name": "stdout",
     "output_type": "stream",
     "text": [
      "Area under the ROC curve on the test data = 0.658\n"
     ]
    }
   ],
   "source": [
    "print(\"Area under the ROC curve on the test data = %.3f\" % roc_auc_score(clf.predict(validate_tfidf),validate_df['Label']))"
   ]
  },
  {
   "cell_type": "markdown",
   "metadata": {},
   "source": [
    "### Find the best parameters for decision tree classifier "
   ]
  },
  {
   "cell_type": "code",
   "execution_count": 36,
   "metadata": {
    "collapsed": false
   },
   "outputs": [],
   "source": [
    "#Run all of the options\n",
    "run=1\n",
    "if (run == 1):\n",
    "    #Initialize dictionary of results\n",
    "    res = dict()\n",
    "    for d in max_depth:\n",
    "        res[d] = list()\n",
    "\n",
    "    #Now train and get results for each option\n",
    "    for d in max_depth:\n",
    "        for l in min_samples_leaf_values:\n",
    "            model=DecisionTreeClassifier(criterion='entropy',min_samples_leaf=l,max_depth=d)\n",
    "            model=model.fit(train_tfidf,train_df['Label'])\n",
    "            res[d].append(roc_auc_score(model.predict(validate_tfidf),validate_df['Label']))\n"
   ]
  },
  {
   "cell_type": "code",
   "execution_count": 37,
   "metadata": {
    "collapsed": false
   },
   "outputs": [
    {
     "data": {
      "text/plain": [
       "<matplotlib.text.Text at 0x2870b090160>"
      ]
     },
     "execution_count": 37,
     "metadata": {},
     "output_type": "execute_result"
    },
    {
     "data": {
      "image/png": "[encoded data removed]",
      "text/plain": [
       "<matplotlib.figure.Figure at 0x2870bb7e940>"
      ]
     },
     "metadata": {},
     "output_type": "display_data"
    }
   ],
   "source": [
    "#plot            \n",
    "fig = plt.figure()\n",
    "ax=fig.add_subplot(111)\n",
    "plt.plot(min_samples_leaf_values,res[max_depth[0]], 'b-', label = 'Depth={}'.format(max_depth[0]))\n",
    "plt.plot(min_samples_leaf_values,res[max_depth[1]], 'r-', label = 'Depth={}'.format(max_depth[1]))\n",
    "plt.plot(min_samples_leaf_values,res[max_depth[2]], 'y-', label = 'Depth={}'.format(max_depth[2]))\n",
    "plt.plot(min_samples_leaf_values,res[max_depth[3]], 'g-', label = 'Depth={}'.format(max_depth[3]))\n",
    "plt.legend(loc = 4)\n",
    "ax.set_xlabel('Min Leaf Size')\n",
    "ax.set_ylabel('Test Set AUC')\n",
    "plt.title('Holdout AUC by Hyperparameters')\n"
   ]
  },
  {
   "cell_type": "code",
   "execution_count": 38,
   "metadata": {
    "collapsed": false
   },
   "outputs": [
    {
     "name": "stdout",
     "output_type": "stream",
     "text": [
      "Best AUC is= 0.673\n",
      "Configuration is min_samples_leaf at 500 depth at 8\n"
     ]
    }
   ],
   "source": [
    "max_depth_value=max_depth[0]\n",
    "min_sampls_leaf=min_samples_leaf_values[0]\n",
    "maxAUC=res[max_depth_value][min_samples_leaf_values.index(min_sampls_leaf)]\n",
    "for d in max_depth:\n",
    "    for l in range(0,4):\n",
    "        if res[d][l]>maxAUC:\n",
    "            maxAUC=res[d][l]\n",
    "            min_sampls_leaf=min_samples_leaf_values[l]\n",
    "            max_depth_value=d\n",
    "print(\"Best AUC is= %.3f\" % maxAUC)\n",
    "print(\"Configuration is min_samples_leaf at\",min_sampls_leaf,\"depth at\",max_depth_value)"
   ]
  },
  {
   "cell_type": "markdown",
   "metadata": {},
   "source": [
    "## Model Selection Results - Among Decision Tree Model and Test Mining Technique\n"
   ]
  },
  {
   "cell_type": "markdown",
   "metadata": {},
   "source": [
    "Based on the AUC, the best model parameter and test mining method combination is decision tree with minimal leaf number of 100, depth of 10 for text transformed from count representation "
   ]
  },
  {
   "cell_type": "markdown",
   "metadata": {},
   "source": [
    "### Fit the Model with Both Training and Validation Data Sets\n"
   ]
  },
  {
   "cell_type": "code",
   "execution_count": 41,
   "metadata": {
    "collapsed": true
   },
   "outputs": [],
   "source": [
    "training=train_df.append(validate_df)"
   ]
  },
  {
   "cell_type": "code",
   "execution_count": 43,
   "metadata": {
    "collapsed": true
   },
   "outputs": [],
   "source": [
    "test_df=pd.read_csv('final_dummies_test.csv',index_col=0)"
   ]
  },
  {
   "cell_type": "code",
   "execution_count": 44,
   "metadata": {
    "collapsed": true
   },
   "outputs": [],
   "source": [
    "train_text=training['text']\n",
    "test_text=test_df['text']"
   ]
  },
  {
   "cell_type": "code",
   "execution_count": 60,
   "metadata": {
    "collapsed": true
   },
   "outputs": [],
   "source": [
    "train_otherfeature=training.drop(['text', 'review_id', 'normalized_votes','Label','Unnamed: 0.1'],axis=1)\n",
    "test_otherfeature=test_df.drop(['text', 'review_id', 'normalized_votes','Label'],axis=1)"
   ]
  },
  {
   "cell_type": "code",
   "execution_count": 46,
   "metadata": {
    "collapsed": false
   },
   "outputs": [
    {
     "data": {
      "text/plain": [
       "CountVectorizer(analyzer='word', binary=False, decode_error='strict',\n",
       "        dtype=<class 'numpy.int64'>, encoding='utf-8', input='content',\n",
       "        lowercase=True, max_df=1.0, max_features=None, min_df=1,\n",
       "        ngram_range=(1, 1), preprocessor=None, stop_words=None,\n",
       "        strip_accents=None, token_pattern='(?u)\\\\b\\\\w\\\\w+\\\\b',\n",
       "        tokenizer=None, vocabulary=None)"
      ]
     },
     "execution_count": 46,
     "metadata": {},
     "output_type": "execute_result"
    }
   ],
   "source": [
    "count_vectorizer=CountVectorizer()\n",
    "count_vectorizer.fit(train_text)"
   ]
  },
  {
   "cell_type": "code",
   "execution_count": 61,
   "metadata": {
    "collapsed": true
   },
   "outputs": [],
   "source": [
    "train_count = count_vectorizer.transform(train_text)\n",
    "test_count = count_vectorizer.transform(test_text)"
   ]
  },
  {
   "cell_type": "code",
   "execution_count": 63,
   "metadata": {
    "collapsed": true
   },
   "outputs": [],
   "source": [
    "train_count=sp.sparse.hstack([train_count,train_otherfeature])\n",
    "test_count=sp.sparse.hstack([test_count,test_otherfeature])"
   ]
  },
  {
   "cell_type": "code",
   "execution_count": 64,
   "metadata": {
    "collapsed": true
   },
   "outputs": [],
   "source": [
    "clf = DecisionTreeClassifier(criterion='entropy', min_samples_leaf = 100, max_depth = 10)\n",
    "clf = clf.fit(train_count,training['Label'])"
   ]
  },
  {
   "cell_type": "markdown",
   "metadata": {},
   "source": [
    "#### Evaluate the Fitted Model with Test Data Set"
   ]
  },
  {
   "cell_type": "code",
   "execution_count": 65,
   "metadata": {
    "collapsed": false
   },
   "outputs": [
    {
     "name": "stdout",
     "output_type": "stream",
     "text": [
      "Area under the ROC curve on the test data = 0.675\n"
     ]
    }
   ],
   "source": [
    "print(\"Area under the ROC curve on the test data = %.3f\" % roc_auc_score(clf.predict(test_count),test_df['Label']))"
   ]
  }
 ],
 "metadata": {
  "kernelspec": {
   "display_name": "Python [Root]",
   "language": "python",
   "name": "Python [Root]"
  },
  "language_info": {
   "codemirror_mode": {
    "name": "ipython",
    "version": 3
   },
   "file_extension": ".py",
   "mimetype": "text/x-python",
   "name": "python",
   "nbconvert_exporter": "python",
   "pygments_lexer": "ipython3",
   "version": "3.5.2"
  }
 },
 "nbformat": 4,
 "nbformat_minor": 0
}
