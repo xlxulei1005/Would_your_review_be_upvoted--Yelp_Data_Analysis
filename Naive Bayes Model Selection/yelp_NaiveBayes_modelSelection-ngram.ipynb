{
 "cells": [
  {
   "cell_type": "code",
   "execution_count": 1,
   "metadata": {
    "collapsed": false,
    "scrolled": true
   },
   "outputs": [
    {
     "data": {
      "text/html": [
       "<div>\n",
       "<table border=\"1\" class=\"dataframe\">\n",
       "  <thead>\n",
       "    <tr style=\"text-align: right;\">\n",
       "      <th></th>\n",
       "      <th>text</th>\n",
       "      <th>Label</th>\n",
       "      <th>votes_total_user</th>\n",
       "      <th>1.0_Price</th>\n",
       "      <th>2.0_Price</th>\n",
       "      <th>3.0_Price</th>\n",
       "      <th>4.0_Price</th>\n",
       "      <th>0.0_Waiter Service</th>\n",
       "      <th>1.0_Waiter Service</th>\n",
       "      <th>1_open</th>\n",
       "      <th>...</th>\n",
       "      <th>1.0_Noise Level</th>\n",
       "      <th>0.0_Take-out</th>\n",
       "      <th>1.0_Take-out</th>\n",
       "      <th>0.0_Attire</th>\n",
       "      <th>1.0_Attire</th>\n",
       "      <th>1_Ambience_score</th>\n",
       "      <th>2_Ambience_score</th>\n",
       "      <th>3_Ambience_score</th>\n",
       "      <th>4_Ambience_score</th>\n",
       "      <th>6_Ambience_score</th>\n",
       "    </tr>\n",
       "  </thead>\n",
       "  <tbody>\n",
       "    <tr>\n",
       "      <th>874255</th>\n",
       "      <td>I sent my family tonight for dinner. They had ...</td>\n",
       "      <td>1</td>\n",
       "      <td>162</td>\n",
       "      <td>0.0</td>\n",
       "      <td>1.0</td>\n",
       "      <td>0.0</td>\n",
       "      <td>0.0</td>\n",
       "      <td>0.0</td>\n",
       "      <td>1.0</td>\n",
       "      <td>1.0</td>\n",
       "      <td>...</td>\n",
       "      <td>1.0</td>\n",
       "      <td>0.0</td>\n",
       "      <td>1.0</td>\n",
       "      <td>0.0</td>\n",
       "      <td>1.0</td>\n",
       "      <td>1.0</td>\n",
       "      <td>0.0</td>\n",
       "      <td>0.0</td>\n",
       "      <td>0.0</td>\n",
       "      <td>0.0</td>\n",
       "    </tr>\n",
       "    <tr>\n",
       "      <th>101873</th>\n",
       "      <td>Dinner Review ...\\n\\nNote about the \"star\" rat...</td>\n",
       "      <td>1</td>\n",
       "      <td>75</td>\n",
       "      <td>0.0</td>\n",
       "      <td>0.0</td>\n",
       "      <td>1.0</td>\n",
       "      <td>0.0</td>\n",
       "      <td>0.0</td>\n",
       "      <td>1.0</td>\n",
       "      <td>1.0</td>\n",
       "      <td>...</td>\n",
       "      <td>1.0</td>\n",
       "      <td>0.0</td>\n",
       "      <td>1.0</td>\n",
       "      <td>1.0</td>\n",
       "      <td>0.0</td>\n",
       "      <td>1.0</td>\n",
       "      <td>0.0</td>\n",
       "      <td>0.0</td>\n",
       "      <td>0.0</td>\n",
       "      <td>0.0</td>\n",
       "    </tr>\n",
       "    <tr>\n",
       "      <th>426019</th>\n",
       "      <td>Awesome place. Staff is super friendly and wel...</td>\n",
       "      <td>0</td>\n",
       "      <td>0</td>\n",
       "      <td>0.0</td>\n",
       "      <td>1.0</td>\n",
       "      <td>0.0</td>\n",
       "      <td>0.0</td>\n",
       "      <td>0.0</td>\n",
       "      <td>1.0</td>\n",
       "      <td>1.0</td>\n",
       "      <td>...</td>\n",
       "      <td>1.0</td>\n",
       "      <td>0.0</td>\n",
       "      <td>1.0</td>\n",
       "      <td>0.0</td>\n",
       "      <td>1.0</td>\n",
       "      <td>1.0</td>\n",
       "      <td>0.0</td>\n",
       "      <td>0.0</td>\n",
       "      <td>0.0</td>\n",
       "      <td>0.0</td>\n",
       "    </tr>\n",
       "    <tr>\n",
       "      <th>30045</th>\n",
       "      <td>Ole faithful buffet.  Hard to be disappointed ...</td>\n",
       "      <td>1</td>\n",
       "      <td>264</td>\n",
       "      <td>0.0</td>\n",
       "      <td>1.0</td>\n",
       "      <td>0.0</td>\n",
       "      <td>0.0</td>\n",
       "      <td>0.0</td>\n",
       "      <td>1.0</td>\n",
       "      <td>1.0</td>\n",
       "      <td>...</td>\n",
       "      <td>1.0</td>\n",
       "      <td>1.0</td>\n",
       "      <td>0.0</td>\n",
       "      <td>0.0</td>\n",
       "      <td>1.0</td>\n",
       "      <td>1.0</td>\n",
       "      <td>0.0</td>\n",
       "      <td>0.0</td>\n",
       "      <td>0.0</td>\n",
       "      <td>0.0</td>\n",
       "    </tr>\n",
       "    <tr>\n",
       "      <th>359841</th>\n",
       "      <td>Perhaps my expectations were too great, I\\'m s...</td>\n",
       "      <td>1</td>\n",
       "      <td>565</td>\n",
       "      <td>0.0</td>\n",
       "      <td>1.0</td>\n",
       "      <td>0.0</td>\n",
       "      <td>0.0</td>\n",
       "      <td>0.0</td>\n",
       "      <td>1.0</td>\n",
       "      <td>1.0</td>\n",
       "      <td>...</td>\n",
       "      <td>1.0</td>\n",
       "      <td>0.0</td>\n",
       "      <td>1.0</td>\n",
       "      <td>0.0</td>\n",
       "      <td>1.0</td>\n",
       "      <td>1.0</td>\n",
       "      <td>0.0</td>\n",
       "      <td>0.0</td>\n",
       "      <td>0.0</td>\n",
       "      <td>0.0</td>\n",
       "    </tr>\n",
       "    <tr>\n",
       "      <th>733651</th>\n",
       "      <td>Hands-down, Brio is one of my favorite places ...</td>\n",
       "      <td>1</td>\n",
       "      <td>24</td>\n",
       "      <td>0.0</td>\n",
       "      <td>1.0</td>\n",
       "      <td>0.0</td>\n",
       "      <td>0.0</td>\n",
       "      <td>0.0</td>\n",
       "      <td>1.0</td>\n",
       "      <td>1.0</td>\n",
       "      <td>...</td>\n",
       "      <td>1.0</td>\n",
       "      <td>0.0</td>\n",
       "      <td>1.0</td>\n",
       "      <td>0.0</td>\n",
       "      <td>1.0</td>\n",
       "      <td>1.0</td>\n",
       "      <td>0.0</td>\n",
       "      <td>0.0</td>\n",
       "      <td>0.0</td>\n",
       "      <td>0.0</td>\n",
       "    </tr>\n",
       "    <tr>\n",
       "      <th>83600</th>\n",
       "      <td>Allow time to enjoy the food.  This is our 2nd...</td>\n",
       "      <td>1</td>\n",
       "      <td>9</td>\n",
       "      <td>0.0</td>\n",
       "      <td>1.0</td>\n",
       "      <td>0.0</td>\n",
       "      <td>0.0</td>\n",
       "      <td>1.0</td>\n",
       "      <td>0.0</td>\n",
       "      <td>0.0</td>\n",
       "      <td>...</td>\n",
       "      <td>1.0</td>\n",
       "      <td>0.0</td>\n",
       "      <td>1.0</td>\n",
       "      <td>0.0</td>\n",
       "      <td>1.0</td>\n",
       "      <td>1.0</td>\n",
       "      <td>0.0</td>\n",
       "      <td>0.0</td>\n",
       "      <td>0.0</td>\n",
       "      <td>0.0</td>\n",
       "    </tr>\n",
       "    <tr>\n",
       "      <th>48298</th>\n",
       "      <td>Love this place! The food is wonderful, very f...</td>\n",
       "      <td>1</td>\n",
       "      <td>25</td>\n",
       "      <td>0.0</td>\n",
       "      <td>1.0</td>\n",
       "      <td>0.0</td>\n",
       "      <td>0.0</td>\n",
       "      <td>0.0</td>\n",
       "      <td>1.0</td>\n",
       "      <td>1.0</td>\n",
       "      <td>...</td>\n",
       "      <td>1.0</td>\n",
       "      <td>0.0</td>\n",
       "      <td>1.0</td>\n",
       "      <td>0.0</td>\n",
       "      <td>1.0</td>\n",
       "      <td>1.0</td>\n",
       "      <td>0.0</td>\n",
       "      <td>0.0</td>\n",
       "      <td>0.0</td>\n",
       "      <td>0.0</td>\n",
       "    </tr>\n",
       "    <tr>\n",
       "      <th>194731</th>\n",
       "      <td>Definitely a weird experience. Sun's in your f...</td>\n",
       "      <td>1</td>\n",
       "      <td>19</td>\n",
       "      <td>0.0</td>\n",
       "      <td>1.0</td>\n",
       "      <td>0.0</td>\n",
       "      <td>0.0</td>\n",
       "      <td>0.0</td>\n",
       "      <td>1.0</td>\n",
       "      <td>1.0</td>\n",
       "      <td>...</td>\n",
       "      <td>0.0</td>\n",
       "      <td>0.0</td>\n",
       "      <td>1.0</td>\n",
       "      <td>0.0</td>\n",
       "      <td>1.0</td>\n",
       "      <td>1.0</td>\n",
       "      <td>0.0</td>\n",
       "      <td>0.0</td>\n",
       "      <td>0.0</td>\n",
       "      <td>0.0</td>\n",
       "    </tr>\n",
       "    <tr>\n",
       "      <th>572539</th>\n",
       "      <td>Excellent food, professional service, expensiv...</td>\n",
       "      <td>0</td>\n",
       "      <td>28</td>\n",
       "      <td>0.0</td>\n",
       "      <td>0.0</td>\n",
       "      <td>0.0</td>\n",
       "      <td>1.0</td>\n",
       "      <td>0.0</td>\n",
       "      <td>1.0</td>\n",
       "      <td>1.0</td>\n",
       "      <td>...</td>\n",
       "      <td>1.0</td>\n",
       "      <td>1.0</td>\n",
       "      <td>0.0</td>\n",
       "      <td>1.0</td>\n",
       "      <td>0.0</td>\n",
       "      <td>1.0</td>\n",
       "      <td>0.0</td>\n",
       "      <td>0.0</td>\n",
       "      <td>0.0</td>\n",
       "      <td>0.0</td>\n",
       "    </tr>\n",
       "  </tbody>\n",
       "</table>\n",
       "<p>10 rows × 31 columns</p>\n",
       "</div>"
      ],
      "text/plain": [
       "                                                     text  Label  \\\n",
       "874255  I sent my family tonight for dinner. They had ...      1   \n",
       "101873  Dinner Review ...\\n\\nNote about the \"star\" rat...      1   \n",
       "426019  Awesome place. Staff is super friendly and wel...      0   \n",
       "30045   Ole faithful buffet.  Hard to be disappointed ...      1   \n",
       "359841  Perhaps my expectations were too great, I\\'m s...      1   \n",
       "733651  Hands-down, Brio is one of my favorite places ...      1   \n",
       "83600   Allow time to enjoy the food.  This is our 2nd...      1   \n",
       "48298   Love this place! The food is wonderful, very f...      1   \n",
       "194731  Definitely a weird experience. Sun's in your f...      1   \n",
       "572539  Excellent food, professional service, expensiv...      0   \n",
       "\n",
       "        votes_total_user  1.0_Price  2.0_Price  3.0_Price  4.0_Price  \\\n",
       "874255               162        0.0        1.0        0.0        0.0   \n",
       "101873                75        0.0        0.0        1.0        0.0   \n",
       "426019                 0        0.0        1.0        0.0        0.0   \n",
       "30045                264        0.0        1.0        0.0        0.0   \n",
       "359841               565        0.0        1.0        0.0        0.0   \n",
       "733651                24        0.0        1.0        0.0        0.0   \n",
       "83600                  9        0.0        1.0        0.0        0.0   \n",
       "48298                 25        0.0        1.0        0.0        0.0   \n",
       "194731                19        0.0        1.0        0.0        0.0   \n",
       "572539                28        0.0        0.0        0.0        1.0   \n",
       "\n",
       "        0.0_Waiter Service  1.0_Waiter Service  1_open        ...         \\\n",
       "874255                 0.0                 1.0     1.0        ...          \n",
       "101873                 0.0                 1.0     1.0        ...          \n",
       "426019                 0.0                 1.0     1.0        ...          \n",
       "30045                  0.0                 1.0     1.0        ...          \n",
       "359841                 0.0                 1.0     1.0        ...          \n",
       "733651                 0.0                 1.0     1.0        ...          \n",
       "83600                  1.0                 0.0     0.0        ...          \n",
       "48298                  0.0                 1.0     1.0        ...          \n",
       "194731                 0.0                 1.0     1.0        ...          \n",
       "572539                 0.0                 1.0     1.0        ...          \n",
       "\n",
       "        1.0_Noise Level  0.0_Take-out  1.0_Take-out  0.0_Attire  1.0_Attire  \\\n",
       "874255              1.0           0.0           1.0         0.0         1.0   \n",
       "101873              1.0           0.0           1.0         1.0         0.0   \n",
       "426019              1.0           0.0           1.0         0.0         1.0   \n",
       "30045               1.0           1.0           0.0         0.0         1.0   \n",
       "359841              1.0           0.0           1.0         0.0         1.0   \n",
       "733651              1.0           0.0           1.0         0.0         1.0   \n",
       "83600               1.0           0.0           1.0         0.0         1.0   \n",
       "48298               1.0           0.0           1.0         0.0         1.0   \n",
       "194731              0.0           0.0           1.0         0.0         1.0   \n",
       "572539              1.0           1.0           0.0         1.0         0.0   \n",
       "\n",
       "        1_Ambience_score  2_Ambience_score  3_Ambience_score  \\\n",
       "874255               1.0               0.0               0.0   \n",
       "101873               1.0               0.0               0.0   \n",
       "426019               1.0               0.0               0.0   \n",
       "30045                1.0               0.0               0.0   \n",
       "359841               1.0               0.0               0.0   \n",
       "733651               1.0               0.0               0.0   \n",
       "83600                1.0               0.0               0.0   \n",
       "48298                1.0               0.0               0.0   \n",
       "194731               1.0               0.0               0.0   \n",
       "572539               1.0               0.0               0.0   \n",
       "\n",
       "        4_Ambience_score  6_Ambience_score  \n",
       "874255               0.0               0.0  \n",
       "101873               0.0               0.0  \n",
       "426019               0.0               0.0  \n",
       "30045                0.0               0.0  \n",
       "359841               0.0               0.0  \n",
       "733651               0.0               0.0  \n",
       "83600                0.0               0.0  \n",
       "48298                0.0               0.0  \n",
       "194731               0.0               0.0  \n",
       "572539               0.0               0.0  \n",
       "\n",
       "[10 rows x 31 columns]"
      ]
     },
     "execution_count": 1,
     "metadata": {},
     "output_type": "execute_result"
    }
   ],
   "source": [
    "import pandas as pd\n",
    "data=pd.read_csv('final_dummies_training.csv')\n",
    "data = data.sample(frac = 0.1)\n",
    "data.drop(['Unnamed: 0','Unnamed: 0.1','review_id','normalized_votes'],inplace=True,axis=1)\n",
    "#change the following -1 to 0, because multinomial NB only takes non-negative \n",
    "#data['Accepts Credit Cards'] = (data['Accepts Credit Cards']+1)/2\n",
    "#data['Wheelchair Accessible'] = (data['Wheelchair Accessible']+1)/2\n",
    "data.head(10)\n"
   ]
  },
  {
   "cell_type": "code",
   "execution_count": 2,
   "metadata": {
    "collapsed": true
   },
   "outputs": [],
   "source": [
    "import matplotlib.pylab as plt\n",
    "%matplotlib inline\n",
    "plt.rcParams['figure.figsize'] = 10, 8\n",
    "\n",
    "# We will want to keep track of some different roc curves, lets do that here\n",
    "tprs = []\n",
    "fprs = []\n",
    "roc_labels = []\n",
    "\n"
   ]
  },
  {
   "cell_type": "code",
   "execution_count": 3,
   "metadata": {
    "collapsed": false
   },
   "outputs": [
    {
     "name": "stderr",
     "output_type": "stream",
     "text": [
      "/Users/muriel820/anaconda/lib/python3.5/site-packages/sklearn/cross_validation.py:44: DeprecationWarning: This module was deprecated in version 0.18 in favor of the model_selection module into which all the refactored classes and functions are moved. Also note that the interface of the new CV iterators are different from that of this module. This module will be removed in 0.20.\n",
      "  \"This module will be removed in 0.20.\", DeprecationWarning)\n"
     ]
    }
   ],
   "source": [
    "from sklearn.cross_validation import train_test_split\n",
    "\n",
    "X = data.drop(['Label'],inplace=False,axis=1)\n",
    "Y = data['Label']\n",
    "\n",
    "X_train, X_test, Y_train, Y_test = train_test_split(X, Y, train_size=0.75)"
   ]
  },
  {
   "cell_type": "markdown",
   "metadata": {
    "collapsed": true
   },
   "source": [
    "## TF-idf n=4"
   ]
  },
  {
   "cell_type": "code",
   "execution_count": 4,
   "metadata": {
    "collapsed": false
   },
   "outputs": [
    {
     "data": {
      "text/plain": [
       "TfidfVectorizer(analyzer='word', binary=False, decode_error='strict',\n",
       "        dtype=<class 'numpy.int64'>, encoding='utf-8', input='content',\n",
       "        lowercase=True, max_df=1.0, max_features=None, min_df=10,\n",
       "        ngram_range=(1, 4), norm='l2', preprocessor=None, smooth_idf=True,\n",
       "        stop_words=None, strip_accents=None, sublinear_tf=False,\n",
       "        token_pattern='(?u)\\\\b\\\\w\\\\w+\\\\b', tokenizer=None, use_idf=True,\n",
       "        vocabulary=None)"
      ]
     },
     "execution_count": 4,
     "metadata": {},
     "output_type": "execute_result"
    }
   ],
   "source": [
    "from sklearn.feature_extraction.text import CountVectorizer\n",
    "from sklearn.feature_extraction.text import TfidfVectorizer\n",
    "\n",
    "# Fit a counter\n",
    "count_vectorizer_tfidf_l1 = TfidfVectorizer(ngram_range = (1,4), min_df = 10, norm = 'l1')\n",
    "count_vectorizer_tfidf_l1.fit(X_train['text'])\n",
    "\n",
    "count_vectorizer_tfidf_l2 = TfidfVectorizer(ngram_range = (1,4), min_df = 10, norm = 'l2')\n",
    "count_vectorizer_tfidf_l2.fit(X_train['text'])\n"
   ]
  },
  {
   "cell_type": "code",
   "execution_count": 5,
   "metadata": {
    "collapsed": false
   },
   "outputs": [
    {
     "name": "stdout",
     "output_type": "stream",
     "text": [
      "The history saving thread hit an unexpected error (OperationalError('unable to open database file',)).History will not be written to the database.\n"
     ]
    }
   ],
   "source": [
    "X_train_tfidf_l1 = count_vectorizer_tfidf_l1.transform(X_train['text'])\n",
    "X_test_tfidf_l1 =  count_vectorizer_tfidf_l1.transform(X_test['text'])\n",
    "\n",
    "X_train_tfidf_l2 = count_vectorizer_tfidf_l2.transform(X_train['text'])\n",
    "X_test_tfidf_l2 =  count_vectorizer_tfidf_l2.transform(X_test['text'])\n"
   ]
  },
  {
   "cell_type": "code",
   "execution_count": 6,
   "metadata": {
    "collapsed": false
   },
   "outputs": [],
   "source": [
    "import scipy as sp\n",
    "X_train_to_merge=sp.sparse.csr_matrix(X_train.drop(['text'],inplace=False,axis=1)) # convert df into sparse matrix\n",
    "X_test_to_merge=sp.sparse.csr_matrix(X_test.drop(['text'],inplace=False,axis=1))\n",
    "X_train_sparse_tfidf_l1=sp.sparse.hstack([X_train_tfidf_l1,X_train_to_merge]) #This is the variable set, suppose ‘a’ is the sparse matrix from CountVectorizer/balabala fit-transformed data.\n",
    "X_test_sparse_tfidf_l1=sp.sparse.hstack([X_test_tfidf_l1,X_test_to_merge])\n",
    "X_train_sparse_tfidf_l2=sp.sparse.hstack([X_train_tfidf_l2,X_train_to_merge]) #This is the variable set, suppose ‘a’ is the sparse matrix from CountVectorizer/balabala fit-transformed data.\n",
    "X_test_sparse_tfidf_l2=sp.sparse.hstack([X_test_tfidf_l2,X_test_to_merge])\n"
   ]
  },
  {
   "cell_type": "markdown",
   "metadata": {},
   "source": [
    "## with Sparse+19 Features with BernoulliNB, MultinomialNB"
   ]
  },
  {
   "cell_type": "code",
   "execution_count": 7,
   "metadata": {
    "collapsed": false
   },
   "outputs": [
    {
     "name": "stdout",
     "output_type": "stream",
     "text": [
      "Area under the ROC curve on the test data=0.672\n"
     ]
    }
   ],
   "source": [
    "from sklearn.naive_bayes import MultinomialNB\n",
    "from sklearn import metrics\n",
    "\n",
    "MultinomialNBmodel_tfidf_l1=MultinomialNB()\n",
    "MultinomialNBmodel_tfidf_l1.fit(X_train_sparse_tfidf_l1, Y_train)\n",
    "print(\"Area under the ROC curve on the test data=%.3f\"% metrics.roc_auc_score(MultinomialNBmodel_tfidf_l1.predict(X_test_sparse_tfidf_l1),Y_test))"
   ]
  },
  {
   "cell_type": "code",
   "execution_count": 8,
   "metadata": {
    "collapsed": true
   },
   "outputs": [],
   "source": [
    "fpr, tpr, thresholds = metrics.roc_curve(Y_test, MultinomialNBmodel_tfidf_l1.predict_proba(X_test_sparse_tfidf_l1)[:,1])\n",
    "tprs.append(tpr)\n",
    "fprs.append(fpr)\n",
    "roc_labels.append(\"TF-idf Vectorization(l1_n=4) - Multinomial NB - features\")\n",
    "\n",
    "\n"
   ]
  },
  {
   "cell_type": "code",
   "execution_count": 9,
   "metadata": {
    "collapsed": false
   },
   "outputs": [
    {
     "name": "stdout",
     "output_type": "stream",
     "text": [
      "Area under the ROC curve on the test data=0.670\n"
     ]
    }
   ],
   "source": [
    "from sklearn.naive_bayes import MultinomialNB\n",
    "from sklearn import metrics\n",
    "\n",
    "MultinomialNBmodel_tfidf_l2=MultinomialNB()\n",
    "MultinomialNBmodel_tfidf_l2.fit(X_train_sparse_tfidf_l2, Y_train)\n",
    "print(\"Area under the ROC curve on the test data=%.3f\"% metrics.roc_auc_score(MultinomialNBmodel_tfidf_l2.predict(X_test_sparse_tfidf_l2),Y_test))"
   ]
  },
  {
   "cell_type": "code",
   "execution_count": 10,
   "metadata": {
    "collapsed": true
   },
   "outputs": [],
   "source": [
    "fpr, tpr, thresholds = metrics.roc_curve(Y_test, MultinomialNBmodel_tfidf_l2.predict_proba(X_test_sparse_tfidf_l2)[:,1])\n",
    "tprs.append(tpr)\n",
    "fprs.append(fpr)\n",
    "roc_labels.append(\"TF-idf Vectorization(l2_n=4) - Multinomial NB - features\")\n",
    "\n"
   ]
  },
  {
   "cell_type": "markdown",
   "metadata": {
    "collapsed": true
   },
   "source": [
    "## TF-idf n=3"
   ]
  },
  {
   "cell_type": "code",
   "execution_count": 11,
   "metadata": {
    "collapsed": false
   },
   "outputs": [
    {
     "data": {
      "text/plain": [
       "TfidfVectorizer(analyzer='word', binary=False, decode_error='strict',\n",
       "        dtype=<class 'numpy.int64'>, encoding='utf-8', input='content',\n",
       "        lowercase=True, max_df=1.0, max_features=None, min_df=10,\n",
       "        ngram_range=(1, 3), norm='l2', preprocessor=None, smooth_idf=True,\n",
       "        stop_words=None, strip_accents=None, sublinear_tf=False,\n",
       "        token_pattern='(?u)\\\\b\\\\w\\\\w+\\\\b', tokenizer=None, use_idf=True,\n",
       "        vocabulary=None)"
      ]
     },
     "execution_count": 11,
     "metadata": {},
     "output_type": "execute_result"
    }
   ],
   "source": [
    "from sklearn.feature_extraction.text import CountVectorizer\n",
    "from sklearn.feature_extraction.text import TfidfVectorizer\n",
    "\n",
    "# Fit a counter\n",
    "count_vectorizer_tfidf_l1 = TfidfVectorizer(ngram_range = (1,3), min_df = 10, norm = 'l1')\n",
    "count_vectorizer_tfidf_l1.fit(X_train['text'])\n",
    "\n",
    "count_vectorizer_tfidf_l2 = TfidfVectorizer(ngram_range = (1,3), min_df = 10, norm = 'l2')\n",
    "count_vectorizer_tfidf_l2.fit(X_train['text'])\n"
   ]
  },
  {
   "cell_type": "code",
   "execution_count": 12,
   "metadata": {
    "collapsed": false
   },
   "outputs": [],
   "source": [
    "X_train_tfidf_l1 = count_vectorizer_tfidf_l1.transform(X_train['text'])\n",
    "X_test_tfidf_l1 =  count_vectorizer_tfidf_l1.transform(X_test['text'])\n",
    "\n",
    "X_train_tfidf_l2 = count_vectorizer_tfidf_l2.transform(X_train['text'])\n",
    "X_test_tfidf_l2 =  count_vectorizer_tfidf_l2.transform(X_test['text'])\n"
   ]
  },
  {
   "cell_type": "code",
   "execution_count": 13,
   "metadata": {
    "collapsed": false
   },
   "outputs": [],
   "source": [
    "import scipy as sp\n",
    "X_train_to_merge=sp.sparse.csr_matrix(X_train.drop(['text'],inplace=False,axis=1)) # convert df into sparse matrix\n",
    "X_test_to_merge=sp.sparse.csr_matrix(X_test.drop(['text'],inplace=False,axis=1))\n",
    "X_train_sparse_tfidf_l1=sp.sparse.hstack([X_train_tfidf_l1,X_train_to_merge]) #This is the variable set, suppose ‘a’ is the sparse matrix from CountVectorizer/balabala fit-transformed data.\n",
    "X_test_sparse_tfidf_l1=sp.sparse.hstack([X_test_tfidf_l1,X_test_to_merge])\n",
    "X_train_sparse_tfidf_l2=sp.sparse.hstack([X_train_tfidf_l2,X_train_to_merge]) #This is the variable set, suppose ‘a’ is the sparse matrix from CountVectorizer/balabala fit-transformed data.\n",
    "X_test_sparse_tfidf_l2=sp.sparse.hstack([X_test_tfidf_l2,X_test_to_merge])\n"
   ]
  },
  {
   "cell_type": "markdown",
   "metadata": {},
   "source": [
    "## with Sparse+19 Features with BernoulliNB, MultinomialNB"
   ]
  },
  {
   "cell_type": "code",
   "execution_count": 14,
   "metadata": {
    "collapsed": false
   },
   "outputs": [
    {
     "name": "stdout",
     "output_type": "stream",
     "text": [
      "Area under the ROC curve on the test data=0.673\n"
     ]
    }
   ],
   "source": [
    "from sklearn.naive_bayes import MultinomialNB\n",
    "from sklearn import metrics\n",
    "\n",
    "MultinomialNBmodel_tfidf_l1=MultinomialNB()\n",
    "MultinomialNBmodel_tfidf_l1.fit(X_train_sparse_tfidf_l1, Y_train)\n",
    "print(\"Area under the ROC curve on the test data=%.3f\"% metrics.roc_auc_score(MultinomialNBmodel_tfidf_l1.predict(X_test_sparse_tfidf_l1),Y_test))"
   ]
  },
  {
   "cell_type": "code",
   "execution_count": 15,
   "metadata": {
    "collapsed": true
   },
   "outputs": [],
   "source": [
    "fpr, tpr, thresholds = metrics.roc_curve(Y_test, MultinomialNBmodel_tfidf_l1.predict_proba(X_test_sparse_tfidf_l1)[:,1])\n",
    "tprs.append(tpr)\n",
    "fprs.append(fpr)\n",
    "roc_labels.append(\"TF-idf Vectorization(l1_n=3) - Multinomial NB - features\")\n",
    "\n",
    "\n"
   ]
  },
  {
   "cell_type": "code",
   "execution_count": 16,
   "metadata": {
    "collapsed": false
   },
   "outputs": [
    {
     "name": "stdout",
     "output_type": "stream",
     "text": [
      "Area under the ROC curve on the test data=0.669\n"
     ]
    }
   ],
   "source": [
    "from sklearn.naive_bayes import MultinomialNB\n",
    "from sklearn import metrics\n",
    "\n",
    "MultinomialNBmodel_tfidf_l2=MultinomialNB()\n",
    "MultinomialNBmodel_tfidf_l2.fit(X_train_sparse_tfidf_l2, Y_train)\n",
    "print(\"Area under the ROC curve on the test data=%.3f\"% metrics.roc_auc_score(MultinomialNBmodel_tfidf_l2.predict(X_test_sparse_tfidf_l2),Y_test))"
   ]
  },
  {
   "cell_type": "code",
   "execution_count": 17,
   "metadata": {
    "collapsed": true
   },
   "outputs": [],
   "source": [
    "fpr, tpr, thresholds = metrics.roc_curve(Y_test, MultinomialNBmodel_tfidf_l2.predict_proba(X_test_sparse_tfidf_l2)[:,1])\n",
    "tprs.append(tpr)\n",
    "fprs.append(fpr)\n",
    "roc_labels.append(\"TF-idf Vectorization(l2_n=3) - Multinomial NB - features\")\n",
    "\n"
   ]
  },
  {
   "cell_type": "markdown",
   "metadata": {
    "collapsed": true
   },
   "source": [
    "## TF-idf n=2"
   ]
  },
  {
   "cell_type": "code",
   "execution_count": 18,
   "metadata": {
    "collapsed": false
   },
   "outputs": [
    {
     "data": {
      "text/plain": [
       "TfidfVectorizer(analyzer='word', binary=False, decode_error='strict',\n",
       "        dtype=<class 'numpy.int64'>, encoding='utf-8', input='content',\n",
       "        lowercase=True, max_df=1.0, max_features=None, min_df=10,\n",
       "        ngram_range=(1, 2), norm='l2', preprocessor=None, smooth_idf=True,\n",
       "        stop_words=None, strip_accents=None, sublinear_tf=False,\n",
       "        token_pattern='(?u)\\\\b\\\\w\\\\w+\\\\b', tokenizer=None, use_idf=True,\n",
       "        vocabulary=None)"
      ]
     },
     "execution_count": 18,
     "metadata": {},
     "output_type": "execute_result"
    }
   ],
   "source": [
    "from sklearn.feature_extraction.text import CountVectorizer\n",
    "from sklearn.feature_extraction.text import TfidfVectorizer\n",
    "\n",
    "# Fit a counter\n",
    "count_vectorizer_tfidf_l1 = TfidfVectorizer(ngram_range = (1,2), min_df = 10, norm = 'l1')\n",
    "count_vectorizer_tfidf_l1.fit(X_train['text'])\n",
    "\n",
    "count_vectorizer_tfidf_l2 = TfidfVectorizer(ngram_range = (1,2), min_df = 10, norm = 'l2')\n",
    "count_vectorizer_tfidf_l2.fit(X_train['text'])\n"
   ]
  },
  {
   "cell_type": "code",
   "execution_count": 19,
   "metadata": {
    "collapsed": false
   },
   "outputs": [],
   "source": [
    "X_train_tfidf_l1 = count_vectorizer_tfidf_l1.transform(X_train['text'])\n",
    "X_test_tfidf_l1 =  count_vectorizer_tfidf_l1.transform(X_test['text'])\n",
    "\n",
    "X_train_tfidf_l2 = count_vectorizer_tfidf_l2.transform(X_train['text'])\n",
    "X_test_tfidf_l2 =  count_vectorizer_tfidf_l2.transform(X_test['text'])\n"
   ]
  },
  {
   "cell_type": "code",
   "execution_count": 20,
   "metadata": {
    "collapsed": false
   },
   "outputs": [],
   "source": [
    "import scipy as sp\n",
    "X_train_to_merge=sp.sparse.csr_matrix(X_train.drop(['text'],inplace=False,axis=1)) # convert df into sparse matrix\n",
    "X_test_to_merge=sp.sparse.csr_matrix(X_test.drop(['text'],inplace=False,axis=1))\n",
    "X_train_sparse_tfidf_l1=sp.sparse.hstack([X_train_tfidf_l1,X_train_to_merge]) #This is the variable set, suppose ‘a’ is the sparse matrix from CountVectorizer/balabala fit-transformed data.\n",
    "X_test_sparse_tfidf_l1=sp.sparse.hstack([X_test_tfidf_l1,X_test_to_merge])\n",
    "X_train_sparse_tfidf_l2=sp.sparse.hstack([X_train_tfidf_l2,X_train_to_merge]) #This is the variable set, suppose ‘a’ is the sparse matrix from CountVectorizer/balabala fit-transformed data.\n",
    "X_test_sparse_tfidf_l2=sp.sparse.hstack([X_test_tfidf_l2,X_test_to_merge])\n"
   ]
  },
  {
   "cell_type": "markdown",
   "metadata": {},
   "source": [
    "## with Sparse+19 Features with BernoulliNB, MultinomialNB"
   ]
  },
  {
   "cell_type": "code",
   "execution_count": 21,
   "metadata": {
    "collapsed": false
   },
   "outputs": [
    {
     "name": "stdout",
     "output_type": "stream",
     "text": [
      "Area under the ROC curve on the test data=0.674\n"
     ]
    }
   ],
   "source": [
    "from sklearn.naive_bayes import MultinomialNB\n",
    "from sklearn import metrics\n",
    "\n",
    "MultinomialNBmodel_tfidf_l1=MultinomialNB()\n",
    "MultinomialNBmodel_tfidf_l1.fit(X_train_sparse_tfidf_l1, Y_train)\n",
    "print(\"Area under the ROC curve on the test data=%.3f\"% metrics.roc_auc_score(MultinomialNBmodel_tfidf_l1.predict(X_test_sparse_tfidf_l1),Y_test))"
   ]
  },
  {
   "cell_type": "code",
   "execution_count": 22,
   "metadata": {
    "collapsed": true
   },
   "outputs": [],
   "source": [
    "fpr, tpr, thresholds = metrics.roc_curve(Y_test, MultinomialNBmodel_tfidf_l1.predict_proba(X_test_sparse_tfidf_l1)[:,1])\n",
    "tprs.append(tpr)\n",
    "fprs.append(fpr)\n",
    "roc_labels.append(\"TF-idf Vectorization(l1_n=2) - Multinomial NB - features\")\n",
    "\n",
    "\n"
   ]
  },
  {
   "cell_type": "code",
   "execution_count": 23,
   "metadata": {
    "collapsed": false
   },
   "outputs": [
    {
     "name": "stdout",
     "output_type": "stream",
     "text": [
      "Area under the ROC curve on the test data=0.671\n"
     ]
    }
   ],
   "source": [
    "from sklearn.naive_bayes import MultinomialNB\n",
    "from sklearn import metrics\n",
    "\n",
    "MultinomialNBmodel_tfidf_l2=MultinomialNB()\n",
    "MultinomialNBmodel_tfidf_l2.fit(X_train_sparse_tfidf_l2, Y_train)\n",
    "print(\"Area under the ROC curve on the test data=%.3f\"% metrics.roc_auc_score(MultinomialNBmodel_tfidf_l2.predict(X_test_sparse_tfidf_l2),Y_test))"
   ]
  },
  {
   "cell_type": "code",
   "execution_count": 24,
   "metadata": {
    "collapsed": true
   },
   "outputs": [],
   "source": [
    "fpr, tpr, thresholds = metrics.roc_curve(Y_test, MultinomialNBmodel_tfidf_l2.predict_proba(X_test_sparse_tfidf_l2)[:,1])\n",
    "tprs.append(tpr)\n",
    "fprs.append(fpr)\n",
    "roc_labels.append(\"TF-idf Vectorization(l2_n=2) - Multinomial NB - features\")\n",
    "\n"
   ]
  },
  {
   "cell_type": "markdown",
   "metadata": {
    "collapsed": true
   },
   "source": [
    "## TF-idf n=1"
   ]
  },
  {
   "cell_type": "code",
   "execution_count": 25,
   "metadata": {
    "collapsed": false
   },
   "outputs": [
    {
     "data": {
      "text/plain": [
       "TfidfVectorizer(analyzer='word', binary=False, decode_error='strict',\n",
       "        dtype=<class 'numpy.int64'>, encoding='utf-8', input='content',\n",
       "        lowercase=True, max_df=1.0, max_features=None, min_df=10,\n",
       "        ngram_range=(1, 1), norm='l2', preprocessor=None, smooth_idf=True,\n",
       "        stop_words=None, strip_accents=None, sublinear_tf=False,\n",
       "        token_pattern='(?u)\\\\b\\\\w\\\\w+\\\\b', tokenizer=None, use_idf=True,\n",
       "        vocabulary=None)"
      ]
     },
     "execution_count": 25,
     "metadata": {},
     "output_type": "execute_result"
    }
   ],
   "source": [
    "from sklearn.feature_extraction.text import CountVectorizer\n",
    "from sklearn.feature_extraction.text import TfidfVectorizer\n",
    "\n",
    "# Fit a counter\n",
    "count_vectorizer_tfidf_l1 = TfidfVectorizer( min_df = 10, norm = 'l1')\n",
    "count_vectorizer_tfidf_l1.fit(X_train['text'])\n",
    "\n",
    "count_vectorizer_tfidf_l2 = TfidfVectorizer( min_df = 10, norm = 'l2')\n",
    "count_vectorizer_tfidf_l2.fit(X_train['text'])\n"
   ]
  },
  {
   "cell_type": "code",
   "execution_count": 26,
   "metadata": {
    "collapsed": false
   },
   "outputs": [],
   "source": [
    "X_train_tfidf_l1 = count_vectorizer_tfidf_l1.transform(X_train['text'])\n",
    "X_test_tfidf_l1 =  count_vectorizer_tfidf_l1.transform(X_test['text'])\n",
    "\n",
    "X_train_tfidf_l2 = count_vectorizer_tfidf_l2.transform(X_train['text'])\n",
    "X_test_tfidf_l2 =  count_vectorizer_tfidf_l2.transform(X_test['text'])\n"
   ]
  },
  {
   "cell_type": "code",
   "execution_count": 27,
   "metadata": {
    "collapsed": false
   },
   "outputs": [],
   "source": [
    "import scipy as sp\n",
    "X_train_to_merge=sp.sparse.csr_matrix(X_train.drop(['text'],inplace=False,axis=1)) # convert df into sparse matrix\n",
    "X_test_to_merge=sp.sparse.csr_matrix(X_test.drop(['text'],inplace=False,axis=1))\n",
    "X_train_sparse_tfidf_l1=sp.sparse.hstack([X_train_tfidf_l1,X_train_to_merge]) #This is the variable set, suppose ‘a’ is the sparse matrix from CountVectorizer/balabala fit-transformed data.\n",
    "X_test_sparse_tfidf_l1=sp.sparse.hstack([X_test_tfidf_l1,X_test_to_merge])\n",
    "X_train_sparse_tfidf_l2=sp.sparse.hstack([X_train_tfidf_l2,X_train_to_merge]) #This is the variable set, suppose ‘a’ is the sparse matrix from CountVectorizer/balabala fit-transformed data.\n",
    "X_test_sparse_tfidf_l2=sp.sparse.hstack([X_test_tfidf_l2,X_test_to_merge])\n"
   ]
  },
  {
   "cell_type": "markdown",
   "metadata": {},
   "source": [
    "## with Sparse+19 Features with BernoulliNB, MultinomialNB"
   ]
  },
  {
   "cell_type": "code",
   "execution_count": 28,
   "metadata": {
    "collapsed": false
   },
   "outputs": [
    {
     "name": "stdout",
     "output_type": "stream",
     "text": [
      "Area under the ROC curve on the test data=0.677\n"
     ]
    }
   ],
   "source": [
    "from sklearn.naive_bayes import MultinomialNB\n",
    "from sklearn import metrics\n",
    "\n",
    "MultinomialNBmodel_tfidf_l1=MultinomialNB()\n",
    "MultinomialNBmodel_tfidf_l1.fit(X_train_sparse_tfidf_l1, Y_train)\n",
    "print(\"Area under the ROC curve on the test data=%.3f\"% metrics.roc_auc_score(MultinomialNBmodel_tfidf_l1.predict(X_test_sparse_tfidf_l1),Y_test))"
   ]
  },
  {
   "cell_type": "code",
   "execution_count": 29,
   "metadata": {
    "collapsed": true
   },
   "outputs": [],
   "source": [
    "fpr, tpr, thresholds = metrics.roc_curve(Y_test, MultinomialNBmodel_tfidf_l1.predict_proba(X_test_sparse_tfidf_l1)[:,1])\n",
    "tprs.append(tpr)\n",
    "fprs.append(fpr)\n",
    "roc_labels.append(\"TF-idf Vectorization(l1_n=1) - Multinomial NB - features\")\n",
    "\n",
    "\n"
   ]
  },
  {
   "cell_type": "code",
   "execution_count": 30,
   "metadata": {
    "collapsed": false
   },
   "outputs": [
    {
     "name": "stdout",
     "output_type": "stream",
     "text": [
      "Area under the ROC curve on the test data=0.674\n"
     ]
    }
   ],
   "source": [
    "from sklearn.naive_bayes import MultinomialNB\n",
    "from sklearn import metrics\n",
    "\n",
    "MultinomialNBmodel_tfidf_l2=MultinomialNB()\n",
    "MultinomialNBmodel_tfidf_l2.fit(X_train_sparse_tfidf_l2, Y_train)\n",
    "print(\"Area under the ROC curve on the test data=%.3f\"% metrics.roc_auc_score(MultinomialNBmodel_tfidf_l2.predict(X_test_sparse_tfidf_l2),Y_test))"
   ]
  },
  {
   "cell_type": "code",
   "execution_count": 31,
   "metadata": {
    "collapsed": true
   },
   "outputs": [],
   "source": [
    "fpr, tpr, thresholds = metrics.roc_curve(Y_test, MultinomialNBmodel_tfidf_l2.predict_proba(X_test_sparse_tfidf_l2)[:,1])\n",
    "tprs.append(tpr)\n",
    "fprs.append(fpr)\n",
    "roc_labels.append(\"TF-idf Vectorization(l2_n=1) - Multinomial NB - features\")\n",
    "\n"
   ]
  },
  {
   "cell_type": "code",
   "execution_count": 32,
   "metadata": {
    "collapsed": true
   },
   "outputs": [],
   "source": [
    "#from sklearn.naive_bayes import GaussianNB\n",
    "#from sklearn import metrics\n",
    "\n",
    "#GaussianNBmodel=GaussianNB()\n",
    "#GaussianNBmodel.fit(X_train_to_array, Y_train)"
   ]
  },
  {
   "cell_type": "code",
   "execution_count": 33,
   "metadata": {
    "collapsed": true
   },
   "outputs": [],
   "source": [
    "#from sklearn import metrics\n",
    "#tmp_X_test = X_test_sparse.toarray()\n",
    "#print(\"Area under the ROC curve on the test data=%.3f\"% metrics.roc_auc_score(GaussianNBmodel.predict(tmp_X_test),Y_test))"
   ]
  },
  {
   "cell_type": "code",
   "execution_count": 34,
   "metadata": {
    "collapsed": false
   },
   "outputs": [
    {
     "data": {
      "image/png": "[encoded data removed]",
      "text/plain": [
       "<matplotlib.figure.Figure at 0x1e7b18908>"
      ]
     },
     "metadata": {},
     "output_type": "display_data"
    }
   ],
   "source": [
    "for fpr, tpr, roc_label in zip(fprs, tprs, roc_labels):\n",
    "    plt.plot(fpr, tpr, label=roc_label)\n",
    "\n",
    "plt.xlabel(\"false positive rate\")\n",
    "plt.ylabel(\"true positive rate\")\n",
    "plt.title(\"ROC Curves\")\n",
    "plt.legend(bbox_to_anchor=(1.05, 1), loc=2, borderaxespad=0.)\n",
    "plt.xlim([0, 1])\n",
    "plt.ylim([0, 1])\n",
    "plt.show()"
   ]
  },
  {
   "cell_type": "code",
   "execution_count": null,
   "metadata": {
    "collapsed": true
   },
   "outputs": [],
   "source": []
  }
 ],
 "metadata": {
  "anaconda-cloud": {},
  "kernelspec": {
   "display_name": "Python [Root]",
   "language": "python",
   "name": "Python [Root]"
  },
  "language_info": {
   "codemirror_mode": {
    "name": "ipython",
    "version": 3
   },
   "file_extension": ".py",
   "mimetype": "text/x-python",
   "name": "python",
   "nbconvert_exporter": "python",
   "pygments_lexer": "ipython3",
   "version": "3.5.2"
  }
 },
 "nbformat": 4,
 "nbformat_minor": 0
}
